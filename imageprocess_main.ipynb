{
 "cells": [
  {
   "cell_type": "code",
   "execution_count": 2,
   "metadata": {},
   "outputs": [
    {
     "name": "stderr",
     "output_type": "stream",
     "text": [
      "c:\\anaconda3\\envs\\ann_project\\lib\\site-packages\\numpy\\_distributor_init.py:30: UserWarning: loaded more than 1 DLL from .libs:\n",
      "c:\\anaconda3\\envs\\ann_project\\lib\\site-packages\\numpy\\.libs\\libopenblas.FB5AE2TYXYH2IJRDKGDGQ3XBKLKTF43H.gfortran-win_amd64.dll\n",
      "c:\\anaconda3\\envs\\ann_project\\lib\\site-packages\\numpy\\.libs\\libopenblas64__v0.3.21-gcc_10_3_0.dll\n",
      "  warnings.warn(\"loaded more than 1 DLL from .libs:\"\n"
     ]
    },
    {
     "name": "stdout",
     "output_type": "stream",
     "text": [
      "importing Jupyter notebook from image_process.ipynb\n",
      "importing Jupyter notebook from video_slicer.ipynb\n"
     ]
    }
   ],
   "source": [
    "import import_ipynb\n",
    "from frame_slicer import save_frames\n",
    "import image_process\n",
    "import video_slicer as vs\n",
    "import os"
   ]
  },
  {
   "cell_type": "code",
   "execution_count": 3,
   "metadata": {},
   "outputs": [
    {
     "name": "stdout",
     "output_type": "stream",
     "text": [
      "Moviepy - Running:\n",
      ">>> \"+ \" \".join(cmd)\n",
      "Moviepy - Command successful\n",
      "67 Frames saved to C:\\test\\parent_video\\..\\result_img\\NIA_SL_FS0067_CROWD04_F.\n",
      "score mean:  695.7051131336495\n",
      "0 / 67 images deleted\n",
      "Moviepy - Running:\n",
      ">>> \"+ \" \".join(cmd)\n",
      "Moviepy - Command successful\n",
      "90 Frames saved to C:\\test\\parent_video\\..\\result_img\\NIA_SL_FS0068_CROWD04_F.\n",
      "score mean:  698.5438602605593\n",
      "0 / 90 images deleted\n",
      "Moviepy - Running:\n",
      ">>> \"+ \" \".join(cmd)\n",
      "Moviepy - Command successful\n",
      "102 Frames saved to C:\\test\\parent_video\\..\\result_img\\NIA_SL_FS0069_CROWD04_F.\n",
      "score mean:  689.2762918834545\n",
      "0 / 102 images deleted\n",
      "Moviepy - Running:\n",
      ">>> \"+ \" \".join(cmd)\n",
      "Moviepy - Command successful\n",
      "123 Frames saved to C:\\test\\parent_video\\..\\result_img\\NIA_SL_FS0070_CROWD04_F.\n",
      "score mean:  696.0240013340351\n",
      "0 / 123 images deleted\n",
      "Moviepy - Running:\n",
      ">>> \"+ \" \".join(cmd)\n",
      "Moviepy - Command successful\n",
      "125 Frames saved to C:\\test\\parent_video\\..\\result_img\\NIA_SL_FS0071_CROWD04_F.\n",
      "score mean:  698.380390706792\n",
      "0 / 125 images deleted\n"
     ]
    }
   ],
   "source": [
    "# 선택한 확장자만 가진 파일명 추출하는 func\n",
    "def getfilenames(filenameslist:list, extension:str)->list:\n",
    "    return [i for i in filenameslist if extension in i]\n",
    "\n",
    "# 같은 이름의 mp4, json mapping\n",
    "def zipper(videos_name_list:list, jsons_name_list:list):\n",
    "    videos_name_list = getfilenames(videos_name_list, '.mp4')\n",
    "    jsons_name_list = getfilenames(jsons_name_list, '.json')\n",
    "    if len(videos_name_list) == len(jsons_name_list):\n",
    "        return zip(sorted(videos_name_list), sorted(jsons_name_list))\n",
    "    else:\n",
    "        raise Exception('Missing file Detected')\n",
    "\n",
    "\n",
    "# mp4, json parent folder로부터 image 추출하는 func\n",
    "\"\"\" Data files format:\n",
    "parent_folder_dir (ex. 2.Validation)\n",
    "    ├ parent2_videos_folder_dir (CROWD)\n",
    "\t  ├─ videos_folder_dir (18)  <- 이 dir을 getImage에 넣어야함 1\n",
    "\t\t├─ videos (NIA_SL_FSXXXX_CROWDXX_F.mp4 ...)\n",
    "\t  ├─ videos_folder_dir (19)  <- 이 dir을 getImage에 넣어야함 2\n",
    "\t\t├─ videos (NIA_SL_FSXXXX_CROWDXX_F.mp4 ...)\n",
    "      ...\n",
    "    ├ parent_json_folder_dir (morpheme)\n",
    "\t  ├─ jsons_folder_dir (18)  <- 이 dir을 getImage에 넣어야함 1\n",
    "\t\t├─ jsons (NIA_SL_FSXXXX_CROWDXX_F_morpheme.json ...)\n",
    "\t  ├─ jsons_folder_dir (19)  <- 이 dir을 getImage에 넣어야함 2\n",
    "\t\t├─ jsons (NIA_SL_FSXXXX_CROWDXX_F_morpheme.json ...)\n",
    "      ...\n",
    "\"\"\"\n",
    "\n",
    "\"\"\" Usage guide:\n",
    "v = './test/parent_video/'\n",
    "j = './test/parent_json/'\n",
    "[i for i in os.walk(v)][0] <==> ├─ videos_folder_dir (18)\n",
    "[i for i in os.walk(j)][0] <==> ├─ jsons_folder_dir (18)\n",
    "\"\"\"\n",
    "\n",
    "def getImage(videos_folder_dir:str, jsons_folder_dir:str):\n",
    "    # [0] in info : direct connected file with folder\n",
    "    videos_folder_info = [i for i in os.walk(video_folder_dir)][0]\n",
    "    jsons_folder_info = [i for i in os.walk(jsons_folder_dir)][0]\n",
    "    # videos_folder_dir = videos_folder_info[0]\n",
    "    # jsons_folder_dir = jsons_folder_info[0]\n",
    "    videos_name_list = videos_folder_info[2]\n",
    "    jsons_name_list = jsons_folder_info[2]\n",
    "    output1_video_folder_dir = os.path.join(videos_folder_dir, os.pardir, 'cutted_video')\n",
    "    os.makedirs(output1_video_folder_dir, exist_ok=True)\n",
    "    output2_video_folder_dir = os.path.join(videos_folder_dir, os.pardir, 'resized_video')\n",
    "    os.makedirs(output2_video_folder_dir, exist_ok=True)\n",
    "\n",
    "    for video_name, json_name in zipper(videos_name_list, jsons_name_list):\n",
    "        inputvideo_dir = os.path.join(videos_folder_dir, video_name)\n",
    "        # get json info\n",
    "        json_dir = os.path.join(jsons_folder_dir, json_name)\n",
    "        start, end, name = vs.extract_start_end_time(json_dir)\n",
    "        # cutting video\n",
    "        outputvideo1_dir = os.path.join(output1_video_folder_dir, video_name.split('.')[0]) + '_cutted.mp4'\n",
    "        vs.cut_video(inputvideo_dir, outputvideo1_dir, start, end)\n",
    "        # resizing video\n",
    "        outputvideo2_dir = os.path.join(output2_video_folder_dir, video_name.split('.')[0]) + '_resized.mp4'\n",
    "        vs.convert_and_resize_video(outputvideo1_dir, outputvideo2_dir, 405, 720)\n",
    "        # video to img\n",
    "        outputimgs_dir = os.path.join(videos_folder_dir, os.pardir, 'result_img', video_name.split('.')[0])\n",
    "        os.makedirs(outputimgs_dir, exist_ok=True)\n",
    "        save_frames(outputvideo2_dir, outputimgs_dir)\n",
    "        # remove the blurred images\n",
    "        img = image_process.ImageProcess()\n",
    "        img.removeBlurImage(outputimgs_dir, 55, print_img=False)\n",
    "        outputimgs_dir_new = os.path.join(videos_folder_dir, os.pardir, 'result_img', name)\n",
    "        os.rename(outputimgs_dir, outputimgs_dir_new)\n",
    "\n",
    "if __name__ == '__main__':\n",
    "  video_folder_dir = 'C:\\\\test\\\\parent_video\\\\'\n",
    "  jsons_folder_dir = 'C:\\\\test\\\\parent_json\\\\'\n",
    "  getImage(video_folder_dir, jsons_folder_dir)"
   ]
  }
 ],
 "metadata": {
  "kernelspec": {
   "display_name": "tf",
   "language": "python",
   "name": "python3"
  },
  "language_info": {
   "codemirror_mode": {
    "name": "ipython",
    "version": 3
   },
   "file_extension": ".py",
   "mimetype": "text/x-python",
   "name": "python",
   "nbconvert_exporter": "python",
   "pygments_lexer": "ipython3",
   "version": "3.8.16"
  },
  "orig_nbformat": 4
 },
 "nbformat": 4,
 "nbformat_minor": 2
}
