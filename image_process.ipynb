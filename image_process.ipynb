{
 "cells": [
  {
   "cell_type": "code",
   "execution_count": null,
   "metadata": {},
   "outputs": [],
   "source": [
    "# import the necessary packages\n",
    "import import_ipynb\n",
    "import cv2, os\n",
    "from matplotlib import pyplot as plt\n",
    "from tensorflow.keras.preprocessing import image\n",
    "import numpy as np"
   ]
  },
  {
   "cell_type": "code",
   "execution_count": null,
   "metadata": {},
   "outputs": [],
   "source": [
    "class ImageProcess:\n",
    "\tdef __init__(self):\n",
    "\t\t# self.dataset_dir = dateset_dir\t# modify required\n",
    "\t\tself.blur_threshold = 39\n",
    "\t\t\n",
    "\t# compute the Laplacian of the image and then return the focus measure, which is simply the variance of the Laplacian\n",
    "\tdef variance_of_laplacian(self, image) -> float:\n",
    "\t\treturn cv2.Laplacian(image, cv2.CV_64F).var()\n",
    "\n",
    "\tdef removeBlurImage(self, dataset_dir, blur_threshold, print_img=False):\n",
    "\t\timg_name_list = [i for i in os.walk(dataset_dir)][0][2]\n",
    "\t\timg_path_list = [os.path.join(dataset_dir, img) for img in img_name_list]\n",
    "\t\t# print(img_name_list)\n",
    "\t\tcount = 0\n",
    "\t\tscoreList = []\n",
    "\t\t# loop over the input images\n",
    "\t\tfor img in img_path_list:\n",
    "\t\t\t# load the image with grayscale, and compute the focus measure of the image using the Variance of Laplacian method\n",
    "\t\t\timage = cv2.imread(img, cv2.IMREAD_ANYDEPTH)\n",
    "\t\t\tfm = self.variance_of_laplacian(image)\n",
    "\t\t\tscoreList.append(fm)\n",
    "\t\t\t# if the focus measure is less than the supplied threshold,\n",
    "\t\t\t# then the image should be considered \"Shaken\"\n",
    "\t\t\ttext = \"Visibility Score\"\n",
    "\t\t\tif fm > blur_threshold:\n",
    "\t\t\t\tcv2.putText(img = image, text = \"{}: {:.2f}\".format(text, fm), org = (10, 60),\n",
    "\t\t\t\t\tfontFace = cv2.FONT_HERSHEY_DUPLEX, fontScale = 1.1, color = (255, 255, 255), thickness=3)\n",
    "\t\t\t\t# Show the image\n",
    "\t\t\t\t# plt.imshow(image, 'gray')\n",
    "\t\t\t\t# plt.show()\n",
    "\t\t\telse:\n",
    "\t\t\t\tcv2.putText(img = image, text = \"{}: {:.2f}\".format(text, fm), org = (10, 60),\n",
    "\t\t\t\t\tfontFace = cv2.FONT_HERSHEY_DUPLEX, fontScale = 1.1, color = (0, 0, 0), thickness=3)\n",
    "\t\t\t\tif print_img:\n",
    "\t\t\t\t\tplt.imshow(image, 'gray')\n",
    "\t\t\t\t\tplt.show()\n",
    "\t\t\t\t# delete the shaken images\n",
    "\t\t\t\tos.remove(img)\n",
    "\t\t\t\tcount += 1\n",
    "\t\tprint('score mean: ', np.mean(scoreList))\n",
    "\t\tprint(count, \"/\", len(img_path_list), \"images deleted\")\n",
    "\n",
    "if __name__ == '__main__':\n",
    "\timgprocess = ImageProcess()\n",
    "\timgprocess.removeBlurImage('/Users/hsyoon/Downloads/img/', 39)"
   ]
  }
 ],
 "metadata": {
  "kernelspec": {
   "display_name": "tf",
   "language": "python",
   "name": "python3"
  },
  "language_info": {
   "codemirror_mode": {
    "name": "ipython",
    "version": 3
   },
   "file_extension": ".py",
   "mimetype": "text/x-python",
   "name": "python",
   "nbconvert_exporter": "python",
   "pygments_lexer": "ipython3",
   "version": "3.8.16"
  },
  "orig_nbformat": 4
 },
 "nbformat": 4,
 "nbformat_minor": 2
}
