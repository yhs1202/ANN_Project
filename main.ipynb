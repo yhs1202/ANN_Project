{
 "cells": [
  {
   "cell_type": "code",
   "execution_count": 10,
   "metadata": {},
   "outputs": [],
   "source": [
    "import import_ipynb\n",
    "from frame_slicer import save_frames\n",
    "import image_process\n",
    "import video_slicer as vs\n",
    "import os"
   ]
  },
  {
   "cell_type": "code",
   "execution_count": 12,
   "metadata": {},
   "outputs": [
    {
     "name": "stdout",
     "output_type": "stream",
     "text": [
      "found video: NIA_SL_FS0001_CROWD18_F.mp4\n",
      "found json: NIA_SL_FS0001_CROWD18_F.mp4\n",
      "Frames saved to c:\\ANN_Project\\test\\result_img\\NIA_SL_FS0001_CROWD18_F.\n",
      "95  images deleted\n",
      "found video: NIA_SL_FS0001_CROWD19_F.mp4\n",
      "found json: NIA_SL_FS0001_CROWD19_F.mp4\n",
      "Frames saved to c:\\ANN_Project\\test\\result_img\\NIA_SL_FS0001_CROWD19_F.\n",
      "95  images deleted\n"
     ]
    }
   ],
   "source": [
    "parent_folder_dir = 'c:\\\\ANN_Project\\\\test\\\\'\n",
    "videos_folder_dir = os.path.join(parent_folder_dir, 'video')\n",
    "videos_name_list = [i for i in os.walk(videos_folder_dir)][0][2]\n",
    "json_folder_dir = os.path.join(parent_folder_dir, 'json')\n",
    "json_name_list = [i for i in os.walk(videos_folder_dir)][0][2]\n",
    "\n",
    "if videos_name_list:\n",
    "    for video_name, json_name in zip(json_name_list, videos_name_list):\n",
    "        print('found video: ' + video_name)\n",
    "        print('found json: ' + json_name)\n",
    "\n",
    "        inputvideo_dir = os.path.join(videos_folder_dir, video_name)\n",
    "        os.makedirs(os.path.join(parent_folder_dir, 'resized'), exist_ok=True)\n",
    "        outputvideo_dir = os.path.join(parent_folder_dir, 'resized', video_name.split('.')[0]) + '_resized.mp4'\n",
    "        # cut video\n",
    "        \n",
    "        vs.convert_and_resize_video(inputvideo_dir, outputvideo_dir, 405, 720)  # resizing\n",
    "\n",
    "        outputimgs_dir = os.path.join(parent_folder_dir, 'result_img', video_name.split('.')[0])\n",
    "        os.makedirs(outputimgs_dir, exist_ok=True)\n",
    "        save_frames(outputvideo_dir, outputimgs_dir)                            # video to img\n",
    "        img = image_process.ImageProcess()\n",
    "        img.removeBlurImage(outputimgs_dir, 29, print_img=False)    # remove the blurred images\n"
   ]
  }
 ],
 "metadata": {
  "kernelspec": {
   "display_name": "tf",
   "language": "python",
   "name": "python3"
  },
  "language_info": {
   "codemirror_mode": {
    "name": "ipython",
    "version": 3
   },
   "file_extension": ".py",
   "mimetype": "text/x-python",
   "name": "python",
   "nbconvert_exporter": "python",
   "pygments_lexer": "ipython3",
   "version": "3.9.7"
  },
  "orig_nbformat": 4
 },
 "nbformat": 4,
 "nbformat_minor": 2
}
