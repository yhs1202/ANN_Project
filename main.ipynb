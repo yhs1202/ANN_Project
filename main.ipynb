{
 "cells": [
  {
   "cell_type": "code",
   "execution_count": 7,
   "metadata": {},
   "outputs": [],
   "source": [
    "import import_ipynb\n",
    "from frame_slicer import save_frames\n",
    "import ImageProcess"
   ]
  },
  {
   "cell_type": "code",
   "execution_count": 9,
   "metadata": {},
   "outputs": [
    {
     "ename": "ZeroDivisionError",
     "evalue": "integer division or modulo by zero",
     "output_type": "error",
     "traceback": [
      "\u001b[0;31m---------------------------------------------------------------------------\u001b[0m",
      "\u001b[0;31mZeroDivisionError\u001b[0m                         Traceback (most recent call last)",
      "Cell \u001b[0;32mIn[9], line 3\u001b[0m\n\u001b[1;32m      1\u001b[0m mov_dir \u001b[39m=\u001b[39m \u001b[39m'\u001b[39m\u001b[39m/Users/hsyoon/Downloads/mov/KakaoTalk_Video_2023-05-22-22-30-01.mp4\u001b[39m\u001b[39m'\u001b[39m\n\u001b[1;32m      2\u001b[0m img_dir \u001b[39m=\u001b[39m \u001b[39m'\u001b[39m\u001b[39m/Users/hsyoon/Downloads/img/\u001b[39m\u001b[39m'\u001b[39m\n\u001b[0;32m----> 3\u001b[0m save_frames(mov_dir, img_dir)\n",
      "File \u001b[0;32m~/Desktop/ANN_Project/frame_slicer.py:18\u001b[0m, in \u001b[0;36msave_frames\u001b[0;34m(video_path, output_dir)\u001b[0m\n\u001b[1;32m     16\u001b[0m frame_num \u001b[39m=\u001b[39m \u001b[39m0\u001b[39m\n\u001b[1;32m     17\u001b[0m \u001b[39mwhile\u001b[39;00m success:\n\u001b[0;32m---> 18\u001b[0m     \u001b[39mif\u001b[39;00m frame_num \u001b[39m%\u001b[39;49m \u001b[39mint\u001b[39;49m(fps \u001b[39m/\u001b[39;49m \u001b[39m60\u001b[39;49m) \u001b[39m==\u001b[39m \u001b[39m0\u001b[39m:  \u001b[39m# 60프레임으로 잘라서 저장\u001b[39;00m\n\u001b[1;32m     19\u001b[0m         frame_path \u001b[39m=\u001b[39m \u001b[39mf\u001b[39m\u001b[39m\"\u001b[39m\u001b[39m{\u001b[39;00moutput_dir\u001b[39m}\u001b[39;00m\u001b[39m/frame_\u001b[39m\u001b[39m{\u001b[39;00mframe_num\u001b[39m}\u001b[39;00m\u001b[39m.jpg\u001b[39m\u001b[39m\"\u001b[39m\n\u001b[1;32m     20\u001b[0m         cv2\u001b[39m.\u001b[39mimwrite(frame_path, frame)\n",
      "\u001b[0;31mZeroDivisionError\u001b[0m: integer division or modulo by zero"
     ]
    }
   ],
   "source": [
    "mov_dir = '/Users/hsyoon/Downloads/mov/KakaoTalk_Video_2023-05-22-22-30-01.mp4'\n",
    "img_dir = '/Users/hsyoon/Downloads/img/'\n",
    "save_frames(mov_dir, img_dir)"
   ]
  }
 ],
 "metadata": {
  "kernelspec": {
   "display_name": "tf",
   "language": "python",
   "name": "python3"
  },
  "language_info": {
   "codemirror_mode": {
    "name": "ipython",
    "version": 3
   },
   "file_extension": ".py",
   "mimetype": "text/x-python",
   "name": "python",
   "nbconvert_exporter": "python",
   "pygments_lexer": "ipython3",
   "version": "3.8.16"
  },
  "orig_nbformat": 4
 },
 "nbformat": 4,
 "nbformat_minor": 2
}
