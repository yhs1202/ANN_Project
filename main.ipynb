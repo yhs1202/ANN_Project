{
 "cells": [
  {
   "cell_type": "code",
   "execution_count": 1,
   "metadata": {},
   "outputs": [
    {
     "name": "stdout",
     "output_type": "stream",
     "text": [
      "importing Jupyter notebook from image_process.ipynb\n",
      "importing Jupyter notebook from video_slicer.ipynb\n"
     ]
    }
   ],
   "source": [
    "import import_ipynb\n",
    "from frame_slicer import save_frames\n",
    "import image_process\n",
    "import video_slicer as vs\n",
    "import os"
   ]
  },
  {
   "cell_type": "code",
   "execution_count": 2,
   "metadata": {},
   "outputs": [
    {
     "name": "stdout",
     "output_type": "stream",
     "text": [
      "Moviepy - Running:\n",
      ">>> \"+ \" \".join(cmd)\n",
      "Moviepy - Command successful\n"
     ]
    },
    {
     "name": "stderr",
     "output_type": "stream",
     "text": [
      "OpenCV: FFMPEG: tag 0x34363248/'H264' is not supported with codec id 27 and format 'mp4 / MP4 (MPEG-4 Part 14)'\n",
      "OpenCV: FFMPEG: fallback to use tag 0x31637661/'avc1'\n"
     ]
    },
    {
     "name": "stdout",
     "output_type": "stream",
     "text": [
      "Frames saved to ./test/parent_video/../result_img/NIA_SL_FS0001_CROWD18_F.\n",
      "score mean:  51.575685316781616\n",
      "86 / 118 images deleted\n"
     ]
    }
   ],
   "source": [
    "# 선택한 확장자만 가진 파일명 추출하는 func\n",
    "def getfilenames(filenameslist:list, extension:str)->list:\n",
    "    return [i for i in filenameslist if extension in i]\n",
    "\n",
    "# 같은 이름의 mp4, json mapping\n",
    "def zipper(videos_name_list:list, jsons_name_list:list):\n",
    "    videos_name_list = getfilenames(videos_name_list, '.mp4')\n",
    "    jsons_name_list = getfilenames(jsons_name_list, '.json')\n",
    "    if len(videos_name_list) == len(jsons_name_list):\n",
    "        return zip(sorted(videos_name_list), sorted(jsons_name_list))\n",
    "    else:\n",
    "        raise Exception('Missing file Detected')\n",
    "\n",
    "\n",
    "# mp4, json parent folder로부터 image 추출하는 func\n",
    "\"\"\" Data files format:\n",
    "parent_folder_dir (ex. 2.Validation)\n",
    "    ├ parent2_videos_folder_dir (CROWD)\n",
    "\t  ├─ videos_folder_dir (18)  <- 이 dir을 getImage에 넣어야함 1\n",
    "\t\t├─ videos (NIA_SL_FSXXXX_CROWDXX_F.mp4 ...)\n",
    "\t  ├─ videos_folder_dir (19)  <- 이 dir을 getImage에 넣어야함 2\n",
    "\t\t├─ videos (NIA_SL_FSXXXX_CROWDXX_F.mp4 ...)\n",
    "      ...\n",
    "    ├ parent_json_folder_dir (morpheme)\n",
    "\t  ├─ jsons_folder_dir (18)  <- 이 dir을 getImage에 넣어야함 1\n",
    "\t\t├─ jsons (NIA_SL_FSXXXX_CROWDXX_F_morpheme.json ...)\n",
    "\t  ├─ jsons_folder_dir (19)  <- 이 dir을 getImage에 넣어야함 2\n",
    "\t\t├─ jsons (NIA_SL_FSXXXX_CROWDXX_F_morpheme.json ...)\n",
    "      ...\n",
    "\"\"\"\n",
    "\n",
    "\"\"\" Usage guide:\n",
    "v = './test/parent_video/'\n",
    "j = './test/parent_json/'\n",
    "[i for i in os.walk(v)][0] <==> ├─ videos_folder_dir (18)\n",
    "[i for i in os.walk(j)][0] <==> ├─ jsons_folder_dir (18)\n",
    "\"\"\"\n",
    "\n",
    "def getImage(videos_folder_dir:str, jsons_folder_dir:str):\n",
    "    # [0] in info : direct connected file with folder\n",
    "    videos_folder_info = [i for i in os.walk(video_folder_dir)][0]\n",
    "    jsons_folder_info = [i for i in os.walk(jsons_folder_dir)][0]\n",
    "    # videos_folder_dir = videos_folder_info[0]\n",
    "    # jsons_folder_dir = jsons_folder_info[0]\n",
    "    videos_name_list = videos_folder_info[2]\n",
    "    jsons_name_list = jsons_folder_info[2]\n",
    "    output1_video_folder_dir = os.path.join(videos_folder_dir, os.pardir, 'cutted_video')\n",
    "    os.makedirs(output1_video_folder_dir, exist_ok=True)\n",
    "    output2_video_folder_dir = os.path.join(videos_folder_dir, os.pardir, 'resized_video')\n",
    "    os.makedirs(output2_video_folder_dir, exist_ok=True)\n",
    "\n",
    "    for video_name, json_name in zipper(videos_name_list, jsons_name_list):\n",
    "        inputvideo_dir = os.path.join(videos_folder_dir, video_name)\n",
    "        # get json info\n",
    "        json_dir = os.path.join(jsons_folder_dir, json_name)\n",
    "        start, end, name = vs.extract_start_end_time(json_dir)\n",
    "        # cutting video\n",
    "        outputvideo1_dir = os.path.join(output1_video_folder_dir, video_name.split('.')[0]) + '_cutted.mp4'\n",
    "        vs.cut_video(inputvideo_dir, outputvideo1_dir, start, end)\n",
    "        # resizing video\n",
    "        outputvideo2_dir = os.path.join(output2_video_folder_dir, video_name.split('.')[0]) + '_resized.mp4'\n",
    "        vs.convert_and_resize_video(outputvideo1_dir, outputvideo2_dir, 405, 720)\n",
    "        # video to img\n",
    "        outputimgs_dir = os.path.join(videos_folder_dir, os.pardir, 'result_img', name)\n",
    "        os.makedirs(outputimgs_dir, exist_ok=True)\n",
    "        save_frames(outputvideo2_dir, outputimgs_dir)\n",
    "        # remove the blurred images\n",
    "        img = image_process.ImageProcess()\n",
    "        img.removeBlurImage(outputimgs_dir, 55, print_img=False)\n",
    "\n",
    "video_folder_dir = './test/parent_video/'\n",
    "jsons_folder_dir = './test/parent_json/'\n",
    "\n",
    "getImage(video_folder_dir, jsons_folder_dir)"
   ]
  }
 ],
 "metadata": {
  "kernelspec": {
   "display_name": "tf",
   "language": "python",
   "name": "python3"
  },
  "language_info": {
   "codemirror_mode": {
    "name": "ipython",
    "version": 3
   },
   "file_extension": ".py",
   "mimetype": "text/x-python",
   "name": "python",
   "nbconvert_exporter": "python",
   "pygments_lexer": "ipython3",
   "version": "3.8.16"
  },
  "orig_nbformat": 4
 },
 "nbformat": 4,
 "nbformat_minor": 2
}
