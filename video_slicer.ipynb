{
  "cells": [
    {
      "cell_type": "code",
      "execution_count": 2,
      "metadata": {
        "colab": {
          "base_uri": "https://localhost:8080/"
        },
        "id": "4sfCOvTsea6x",
        "outputId": "1da688b0-fcbf-406c-aede-55d9ddc41369"
      },
      "outputs": [
        {
          "name": "stderr",
          "output_type": "stream",
          "text": [
            "c:\\anaconda3\\envs\\ann_project\\lib\\site-packages\\numpy\\_distributor_init.py:30: UserWarning: loaded more than 1 DLL from .libs:\n",
            "c:\\anaconda3\\envs\\ann_project\\lib\\site-packages\\numpy\\.libs\\libopenblas.FB5AE2TYXYH2IJRDKGDGQ3XBKLKTF43H.gfortran-win_amd64.dll\n",
            "c:\\anaconda3\\envs\\ann_project\\lib\\site-packages\\numpy\\.libs\\libopenblas64__v0.3.21-gcc_10_3_0.dll\n",
            "  warnings.warn(\"loaded more than 1 DLL from .libs:\"\n"
          ]
        }
      ],
      "source": [
        "from moviepy.video.io.ffmpeg_tools import ffmpeg_extract_subclip\n",
        "import json\n",
        "import cv2"
      ]
    },
    {
      "cell_type": "code",
      "execution_count": 3,
      "metadata": {},
      "outputs": [
        {
          "name": "stdout",
          "output_type": "stream",
          "text": [
            "Attribute Name: 가락로\n",
            "Moviepy - Running:\n",
            ">>> \"+ \" \".join(cmd)\n",
            "Moviepy - Command successful\n"
          ]
        }
      ],
      "source": [
        "# TODO LIST\n",
        "# H.264, 405*720\n",
        "\n",
        "def extract_start_end_time(json_file):\n",
        "    with open(json_file, 'r', encoding='UTF-8') as f:\n",
        "        data = json.load(f)\n",
        "    \n",
        "    start_time = data['data'][0]['start']\n",
        "    end_time = data['data'][0]['end']\n",
        "    attribute_name = data['data'][0]['attributes'][0]['name']   # --------- 단어 이름 추출\n",
        "    \n",
        "    return start_time, end_time, attribute_name\n",
        "\n",
        "def cut_video(input_file, output_file, start_time, end_time):\n",
        "    ffmpeg_extract_subclip(input_file, start_time, end_time, targetname=output_file)\n",
        "\n",
        "def convert_and_resize_video(input_file, output_file, width, height):\n",
        "    video = cv2.VideoCapture(input_file)\n",
        "    fourcc = cv2.VideoWriter_fourcc(*'H264')\n",
        "    fps = video.get(cv2.CAP_PROP_FPS)\n",
        "    video_writer = cv2.VideoWriter(output_file, fourcc, fps, (width, height))\n",
        "    \n",
        "    while video.isOpened():\n",
        "        ret, frame = video.read()\n",
        "        if not ret:\n",
        "            break\n",
        "        resized_frame = cv2.resize(frame, (width, height))\n",
        "        video_writer.write(resized_frame)\n",
        "\n",
        "    video.release()\n",
        "    video_writer.release()\n",
        "\n",
        "if __name__ == '__main__':\n",
        "    width = 405  # 변경할 가로 크기\n",
        "    height = 720  # 변경할 세로 크기\n",
        "    json_file = \".\\\\NIA_SL_FS0001_CROWD18_F_morpheme.json\"  # 주어진 JSON 파일 경로\n",
        "    input_file = \".\\\\NIA_SL_FS0001_CROWD18_F.mp4\"  # 원본 동영상 파일명\n",
        "    output_file = 'output_test.mp4'  # 잘라낸 동영상 파일명\n",
        "    \n",
        "    start_time, end_time, attribute_name = extract_start_end_time(json_file)\n",
        "    print(\"Attribute Name:\", attribute_name)    # ---------------- 단어 이름 출력(참고)\n",
        "    \n",
        "    cut_video(input_file, output_file, start_time, end_time)\n",
        "    convert_and_resize_video(output_file, output_file, width, height)\n"
      ]
    }
  ],
  "metadata": {
    "colab": {
      "provenance": []
    },
    "kernelspec": {
      "display_name": "Python 3",
      "name": "python3"
    },
    "language_info": {
      "codemirror_mode": {
        "name": "ipython",
        "version": 3
      },
      "file_extension": ".py",
      "mimetype": "text/x-python",
      "name": "python",
      "nbconvert_exporter": "python",
      "pygments_lexer": "ipython3",
      "version": "3.8.16"
    }
  },
  "nbformat": 4,
  "nbformat_minor": 0
}
