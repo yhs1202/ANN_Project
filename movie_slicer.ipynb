{
  "cells": [
    {
      "cell_type": "code",
      "execution_count": 8,
      "metadata": {
        "colab": {
          "base_uri": "https://localhost:8080/"
        },
        "id": "4sfCOvTsea6x",
        "outputId": "1da688b0-fcbf-406c-aede-55d9ddc41369"
      },
      "outputs": [
        {
          "name": "stdout",
          "output_type": "stream",
          "text": [
            "Moviepy - Running:\n",
            ">>> \"+ \" \".join(cmd)\n",
            "Moviepy - Command successful\n"
          ]
        }
      ],
      "source": [
        "from moviepy.video.io.ffmpeg_tools import ffmpeg_extract_subclip\n",
        "import json\n",
        "\n",
        "def extract_start_end_time(json_file):\n",
        "    with open(json_file, 'r', encoding='UTF-8') as f:\n",
        "        data = json.load(f)\n",
        "    \n",
        "    start_time = data['data'][0]['start']\n",
        "    end_time = data['data'][0]['end']\n",
        "    \n",
        "    return start_time, end_time\n",
        "\n",
        "def cut_video(input_file, output_file, start_time, end_time):\n",
        "    ffmpeg_extract_subclip(input_file, start_time, end_time, targetname=output_file)\n",
        "\n",
        "if __name__ == '__main__':\n",
        "    json_file = \".\\\\NIA_SL_FS0001_CROWD18_F_morpheme.json\"  # 주어진 JSON 파일 경로\n",
        "    input_file = \".\\\\NIA_SL_FS0001_CROWD18_F.mp4\"  # 원본 동영상 파일명\n",
        "    output_file = 'output_test.mp4'  # 잘라낸 동영상 파일명\n",
        "\n",
        "    start_time, end_time = extract_start_end_time(json_file)\n",
        "    cut_video(input_file, output_file, start_time, end_time)\n"
      ]
    }
  ],
  "metadata": {
    "colab": {
      "provenance": []
    },
    "kernelspec": {
      "display_name": "Python 3",
      "name": "python3"
    },
    "language_info": {
      "codemirror_mode": {
        "name": "ipython",
        "version": 3
      },
      "file_extension": ".py",
      "mimetype": "text/x-python",
      "name": "python",
      "nbconvert_exporter": "python",
      "pygments_lexer": "ipython3",
      "version": "3.8.16"
    }
  },
  "nbformat": 4,
  "nbformat_minor": 0
}
