{
 "cells": [
  {
   "cell_type": "code",
   "execution_count": 44,
   "metadata": {},
   "outputs": [],
   "source": [
    "from PIL import Image\n",
    "import os\n",
    "if __name__ == '__main__':\n",
    "    path = '/Users/hsyoon/Downloads/qwe/'\n",
    "    files = os.listdir(path)\n",
    "    jpgs = [file for file in files if file[-3:] == \"JPG\"]\n",
    "    for jpg in jpgs:\n",
    "        image = Image.open(os.path.join(path,jpg))\n",
    "        image = image.resize((1200,900))\n",
    "        image.save('/Users/hsyoon/Downloads/qwe/9/' + jpg , quality=30, exif=image.info.get('exif'))"
   ]
  }
 ],
 "metadata": {
  "kernelspec": {
   "display_name": "tf",
   "language": "python",
   "name": "python3"
  },
  "language_info": {
   "codemirror_mode": {
    "name": "ipython",
    "version": 3
   },
   "file_extension": ".py",
   "mimetype": "text/x-python",
   "name": "python",
   "nbconvert_exporter": "python",
   "pygments_lexer": "ipython3",
   "version": "3.8.16"
  },
  "orig_nbformat": 4
 },
 "nbformat": 4,
 "nbformat_minor": 2
}
