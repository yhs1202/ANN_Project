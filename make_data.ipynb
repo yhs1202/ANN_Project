{
 "cells": [
  {
   "cell_type": "code",
   "execution_count": null,
   "metadata": {},
   "outputs": [],
   "source": [
    "import os\n",
    "import image2coordinate as i2c\n",
    "import numpy as np"
   ]
  },
  {
   "cell_type": "code",
   "execution_count": null,
   "metadata": {},
   "outputs": [],
   "source": [
    "# dataset_dir = '/Users/hsyoon/Downloads/dataset2/'\n",
    "# print(os.listdir(dataset_dir))\n",
    "# for dir in os.listdir(dataset_dir):\n",
    "#     path = os.path.join(dataset_dir, dir)\n",
    "#     print(path)\n",
    "#     i2c.process_images_in_folder(path)\n",
    "\n",
    "dataset_dir = '/Users/hsyoon/Downloads/dataset2/14'\n",
    "i2c.process_images_in_folder(dataset_dir)"
   ]
  },
  {
   "cell_type": "code",
   "execution_count": null,
   "metadata": {},
   "outputs": [],
   "source": [
    "# csv shape 확인용 (image개수, 63)\n",
    "csvs = '/Users/hsyoon/Downloads/dataset2/csv/'\n",
    "\n",
    "for csv in sorted(os.listdir(csvs)):\n",
    "    csv_path = os.path.join(csvs,csv)\n",
    "    if csv_path.endswith(\"csv\"):\n",
    "        a = np.loadtxt(csv_path, delimiter=\",\")\n",
    "        print(csv, \":\", a.shape)"
   ]
  }
 ],
 "metadata": {
  "language_info": {
   "name": "python"
  },
  "orig_nbformat": 4
 },
 "nbformat": 4,
 "nbformat_minor": 2
}
