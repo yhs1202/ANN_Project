{
 "cells": [
  {
   "cell_type": "code",
   "execution_count": 1,
   "metadata": {},
   "outputs": [],
   "source": [
    "import os\n",
    "import image2coordinate as i2c\n",
    "import numpy as np"
   ]
  },
  {
   "cell_type": "code",
   "execution_count": 2,
   "metadata": {},
   "outputs": [
    {
     "name": "stdout",
     "output_type": "stream",
     "text": [
      "['.DS_Store', '11', '24', '22', '25']\n",
      "/Users/hsyoon/Downloads/dqw/.DS_Store\n",
      "/Users/hsyoon/Downloads/dqw/11\n"
     ]
    },
    {
     "name": "stderr",
     "output_type": "stream",
     "text": [
      "INFO: Created TensorFlow Lite XNNPACK delegate for CPU.\n"
     ]
    },
    {
     "name": "stdout",
     "output_type": "stream",
     "text": [
      "손 부분 관절 데이터가 성공적으로 저장되었습니다.\n",
      "/Users/hsyoon/Downloads/dqw/22\n",
      "손 부분 관절 데이터가 성공적으로 저장되었습니다.\n",
      "/Users/hsyoon/Downloads/dqw/24\n",
      "손 부분 관절 데이터가 성공적으로 저장되었습니다.\n",
      "/Users/hsyoon/Downloads/dqw/25\n",
      "손 부분 관절 데이터가 성공적으로 저장되었습니다.\n",
      "손 부분 관절 데이터가 성공적으로 저장되었습니다.\n"
     ]
    }
   ],
   "source": [
    "dataset_dir = '/Users/hsyoon/Downloads/dqw/'\n",
    "print(os.listdir(dataset_dir))\n",
    "for dir in sorted(os.listdir(dataset_dir)):\n",
    "    path = os.path.join(dataset_dir, dir)\n",
    "    print(path)\n",
    "    if '.' not  in path:\n",
    "        i2c.process_images_in_folder(path)\n",
    "\n",
    "# dataset_dir = '/Users/hsyoon/Downloads/dataset2/14'\n",
    "i2c.process_images_in_folder(dataset_dir)"
   ]
  },
  {
   "cell_type": "code",
   "execution_count": 4,
   "metadata": {},
   "outputs": [
    {
     "name": "stdout",
     "output_type": "stream",
     "text": [
      "01_hand_landmarks.csv : (30, 63)\n",
      "02_hand_landmarks.csv : (30, 63)\n",
      "03_hand_landmarks.csv : (30, 63)\n",
      "04_hand_landmarks.csv : (30, 63)\n",
      "05_hand_landmarks.csv : (30, 63)\n",
      "06_hand_landmarks.csv : (30, 63)\n",
      "07_hand_landmarks.csv : (30, 63)\n",
      "08_hand_landmarks.csv : (30, 63)\n",
      "09_hand_landmarks.csv : (30, 63)\n",
      "10_hand_landmarks.csv : (30, 63)\n",
      "11_hand_landmarks.csv : (30, 63)\n",
      "12_hand_landmarks.csv : (30, 63)\n",
      "13_hand_landmarks.csv : (30, 63)\n",
      "14_hand_landmarks.csv : (30, 63)\n",
      "15_hand_landmarks.csv : (20, 63)\n",
      "16_hand_landmarks.csv : (20, 63)\n",
      "17_hand_landmarks.csv : (20, 63)\n",
      "18_hand_landmarks.csv : (20, 63)\n",
      "19_hand_landmarks.csv : (20, 63)\n",
      "20_hand_landmarks.csv : (20, 63)\n",
      "21_hand_landmarks.csv : (20, 63)\n",
      "22_hand_landmarks.csv : (20, 63)\n",
      "23_hand_landmarks.csv : (20, 63)\n",
      "24_hand_landmarks.csv : (20, 63)\n",
      "25_hand_landmarks.csv : (20, 63)\n",
      "26_hand_landmarks.csv : (20, 63)\n"
     ]
    }
   ],
   "source": [
    "# csv shape 확인용 (image개수, 63)\n",
    "csvs = '/Users/hsyoon/Downloads/qqq/'\n",
    "\n",
    "for csv in sorted(os.listdir(csvs)):\n",
    "    csv_path = os.path.join(csvs,csv)\n",
    "    if csv_path.endswith(\"csv\"):\n",
    "        a = np.loadtxt(csv_path, delimiter=\",\")\n",
    "        print(csv, \":\", a.shape)"
   ]
  }
 ],
 "metadata": {
  "kernelspec": {
   "display_name": "tf",
   "language": "python",
   "name": "python3"
  },
  "language_info": {
   "codemirror_mode": {
    "name": "ipython",
    "version": 3
   },
   "file_extension": ".py",
   "mimetype": "text/x-python",
   "name": "python",
   "nbconvert_exporter": "python",
   "pygments_lexer": "ipython3",
   "version": "3.8.16"
  },
  "orig_nbformat": 4
 },
 "nbformat": 4,
 "nbformat_minor": 2
}
